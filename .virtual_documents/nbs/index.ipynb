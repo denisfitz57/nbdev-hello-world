#| hide
from nbdev_hello_world.hmm import say_hello


dir(__package__)




















say_hello('kjhsdf')


from fastcore.test import *


test_eq(say_hello("Hamel"), "Hello Hamel!")



