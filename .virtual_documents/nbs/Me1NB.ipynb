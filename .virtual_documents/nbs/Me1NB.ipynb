


#| default_exp hmm


#| hide
from nbdev.showdoc import *


#| export
def say_hello(to):
    "Say hello to somebody"
    return f'Hello {to}!'


dir()


say_hello("joe")


#| hide
import nbdev; nbdev.nbdev_export()





from fastcore.test import *


test_eq(say_hello("Hamel"), "Hello Hamel!")


from IPython.display import display,SVG


display(SVG('<svg height="100" xmlns="http://www.w3.org/2000/svg"><circle cx="30" cy="50" r="40"/></svg>'))



